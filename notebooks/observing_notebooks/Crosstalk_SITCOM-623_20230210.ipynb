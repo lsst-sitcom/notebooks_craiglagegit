{
 "cells": [
  {
   "cell_type": "markdown",
   "metadata": {},
   "source": [
    "# Take images for crosstalk determination\n",
    "\n",
    "This notebook will find a bright star and take saturated images with the star in each amp\\\n",
    "See SITCOM-623 \\\n",
    "Craig Lage - 12Feb23"
   ]
  },
  {
   "cell_type": "code",
   "execution_count": null,
   "metadata": {
    "execution": {
     "iopub.execute_input": "2023-02-12T19:46:13.734619Z",
     "iopub.status.busy": "2023-02-12T19:46:13.734231Z",
     "iopub.status.idle": "2023-02-12T19:46:16.758291Z",
     "shell.execute_reply": "2023-02-12T19:46:16.757799Z",
     "shell.execute_reply.started": "2023-02-12T19:46:13.734600Z"
    },
    "tags": []
   },
   "outputs": [],
   "source": [
    "import sys\n",
    "import asyncio\n",
    "import time\n",
    "import astropy\n",
    "import numpy as np\n",
    "import logging \n",
    "import yaml\n",
    "import os\n",
    "\n",
    "from lsst.ts import salobj\n",
    "from lsst.ts.idl.enums.Script import ScriptState\n",
    "from lsst.ts.externalscripts.auxtel.latiss_acquire_and_take_sequence import LatissAcquireAndTakeSequence\n",
    "import astropy.units as u\n",
    "from astropy.coordinates import Angle\n",
    "from astroquery.simbad import Simbad"
   ]
  },
  {
   "cell_type": "code",
   "execution_count": null,
   "metadata": {
    "execution": {
     "iopub.execute_input": "2023-02-12T19:46:16.759743Z",
     "iopub.status.busy": "2023-02-12T19:46:16.759262Z",
     "iopub.status.idle": "2023-02-12T19:46:16.763162Z",
     "shell.execute_reply": "2023-02-12T19:46:16.762737Z",
     "shell.execute_reply.started": "2023-02-12T19:46:16.759727Z"
    },
    "tags": []
   },
   "outputs": [],
   "source": [
    "stream_handler = logging.StreamHandler(sys.stdout)\n",
    "# if you want logging\n",
    "logger = logging.getLogger()\n",
    "logger.addHandler(stream_handler)\n",
    "logger.level = logging.DEBUG\n",
    "\n",
    "# turn off logging for matplotlib\n",
    "mpl_logger = logging.getLogger('matplotlib')\n",
    "mpl_logger.setLevel(logging.WARNING)"
   ]
  },
  {
   "cell_type": "code",
   "execution_count": null,
   "metadata": {
    "execution": {
     "iopub.execute_input": "2023-02-12T19:46:16.765789Z",
     "iopub.status.busy": "2023-02-12T19:46:16.765334Z",
     "iopub.status.idle": "2023-02-12T19:46:16.772163Z",
     "shell.execute_reply": "2023-02-12T19:46:16.771787Z",
     "shell.execute_reply.started": "2023-02-12T19:46:16.765767Z"
    },
    "tags": []
   },
   "outputs": [],
   "source": [
    "print(f'Your UID is {os.getuid()}')\n",
    "index=os.getuid()*10+np.random.randint(0,9)\n",
    "print(f'The generated index is {index}')"
   ]
  },
  {
   "cell_type": "code",
   "execution_count": null,
   "metadata": {
    "execution": {
     "iopub.execute_input": "2023-02-12T19:46:23.327757Z",
     "iopub.status.busy": "2023-02-12T19:46:23.327389Z",
     "iopub.status.idle": "2023-02-12T19:46:24.482624Z",
     "shell.execute_reply": "2023-02-12T19:46:24.482038Z",
     "shell.execute_reply.started": "2023-02-12T19:46:23.327741Z"
    },
    "jupyter": {
     "outputs_hidden": true
    },
    "tags": []
   },
   "outputs": [],
   "source": [
    "# We will use this script to acquire and center the star\n",
    "script = LatissAcquireAndTakeSequence(index=index)  # this essentially calls the init method"
   ]
  },
  {
   "cell_type": "code",
   "execution_count": null,
   "metadata": {
    "execution": {
     "iopub.execute_input": "2023-02-12T19:46:28.303802Z",
     "iopub.status.busy": "2023-02-12T19:46:28.303394Z",
     "iopub.status.idle": "2023-02-12T19:46:28.306718Z",
     "shell.execute_reply": "2023-02-12T19:46:28.306206Z",
     "shell.execute_reply.started": "2023-02-12T19:46:28.303783Z"
    },
    "tags": []
   },
   "outputs": [],
   "source": [
    "# make sure all remotes etc are running\n",
    "await script.start_task"
   ]
  },
  {
   "cell_type": "code",
   "execution_count": null,
   "metadata": {},
   "outputs": [],
   "source": [
    "# ATAOS must be on and corrections enabled, do as follows if required\n",
    "# await script.atcs.rem.ataos.cmd_enableCorrection.set_start(m1=True, hexapod=True, atspectrograph=True)"
   ]
  },
  {
   "cell_type": "markdown",
   "metadata": {},
   "source": [
    "# Find a bright target"
   ]
  },
  {
   "cell_type": "code",
   "execution_count": null,
   "metadata": {
    "execution": {
     "iopub.execute_input": "2023-02-12T20:15:21.519429Z",
     "iopub.status.busy": "2023-02-12T20:15:21.519049Z",
     "iopub.status.idle": "2023-02-12T20:15:39.647896Z",
     "shell.execute_reply": "2023-02-12T20:15:39.647127Z",
     "shell.execute_reply.started": "2023-02-12T20:15:21.519411Z"
    },
    "jupyter": {
     "outputs_hidden": true
    },
    "tags": []
   },
   "outputs": [],
   "source": [
    "target_name = await script.atcs.find_target(az=90.0,el=60,mag_limit=9.0)\n",
    "print(target_name)\n",
    "\n",
    "#Here's a list of possible targets For early Wed, 15-Feb-23\n",
    "# Last time (Feb, 2021) we used a very bright start (m~2.5) and 2 second exposures\n",
    "# Maybe using an m=7 star and 30 second exposures is a bad idea\n",
    "\n",
    "#HD37286 - m=6.4 - Good\n",
    "#HD37430 - m=6.4 - Good\n",
    "#HD25025 - m=2.95 much brighter Good\n",
    "#HD32887 - m=3.15 Also good\n",
    "#HD36673 - m=2.55 very bright"
   ]
  },
  {
   "cell_type": "markdown",
   "metadata": {},
   "source": [
    "# Make sure there are no bright stars nearby"
   ]
  },
  {
   "cell_type": "markdown",
   "metadata": {},
   "source": [
    "# Now acquire the object and the script will center it in the field"
   ]
  },
  {
   "cell_type": "code",
   "execution_count": null,
   "metadata": {
    "execution": {
     "iopub.execute_input": "2023-02-01T08:23:28.454527Z",
     "iopub.status.busy": "2023-02-01T08:23:28.454176Z",
     "iopub.status.idle": "2023-02-01T08:23:28.458127Z",
     "shell.execute_reply": "2023-02-01T08:23:28.457635Z",
     "shell.execute_reply.started": "2023-02-01T08:23:28.454509Z"
    },
    "tags": []
   },
   "outputs": [],
   "source": [
    "# Needed to run the script a 2nd time \n",
    "script.set_state(ScriptState.UNCONFIGURED)"
   ]
  },
  {
   "cell_type": "code",
   "execution_count": null,
   "metadata": {
    "execution": {
     "iopub.execute_input": "2023-02-01T08:23:30.411050Z",
     "iopub.status.busy": "2023-02-01T08:23:30.410679Z",
     "iopub.status.idle": "2023-02-01T08:23:30.415537Z",
     "shell.execute_reply": "2023-02-01T08:23:30.415028Z",
     "shell.execute_reply.started": "2023-02-01T08:23:30.411031Z"
    },
    "tags": []
   },
   "outputs": [],
   "source": [
    "configuration = yaml.safe_dump({\"object_name\": target_name,\n",
    "                                \"do_acquire\": True,\n",
    "                                \"acq_filter\" : 'SDSSr_65mm',\n",
    "                                \"acq_grating\" : 'empty_1',\n",
    "                                \"do_take_sequence\": False})\n",
    "print(configuration)"
   ]
  },
  {
   "cell_type": "code",
   "execution_count": null,
   "metadata": {
    "execution": {
     "iopub.execute_input": "2023-02-01T08:23:33.077781Z",
     "iopub.status.busy": "2023-02-01T08:23:33.077410Z",
     "iopub.status.idle": "2023-02-01T08:23:33.876270Z",
     "shell.execute_reply": "2023-02-01T08:23:33.875477Z",
     "shell.execute_reply.started": "2023-02-01T08:23:33.077762Z"
    },
    "jupyter": {
     "outputs_hidden": true
    },
    "tags": []
   },
   "outputs": [],
   "source": [
    "config_data = script.cmd_configure.DataType()\n",
    "config_data.config = configuration\n",
    "await script.do_configure(config_data)"
   ]
  },
  {
   "cell_type": "code",
   "execution_count": null,
   "metadata": {
    "execution": {
     "iopub.execute_input": "2023-02-01T08:23:38.137008Z",
     "iopub.status.busy": "2023-02-01T08:23:38.136623Z",
     "iopub.status.idle": "2023-02-01T08:24:36.258470Z",
     "shell.execute_reply": "2023-02-01T08:24:36.257604Z",
     "shell.execute_reply.started": "2023-02-01T08:23:38.136989Z"
    },
    "jupyter": {
     "outputs_hidden": true
    },
    "tags": []
   },
   "outputs": [],
   "source": [
    "# Run the script\n",
    "group_id_data = script.cmd_setGroupId.DataType(\n",
    "                groupId=astropy.time.Time.now().isot\n",
    "            )\n",
    "await script.do_setGroupId(group_id_data)\n",
    "\n",
    "run_data = script.cmd_run.DataType()\n",
    "await script.arun()"
   ]
  },
  {
   "cell_type": "code",
   "execution_count": null,
   "metadata": {
    "execution": {
     "iopub.execute_input": "2023-02-01T04:41:01.960324Z",
     "iopub.status.busy": "2023-02-01T04:41:01.959979Z",
     "iopub.status.idle": "2023-02-01T04:41:26.171935Z",
     "shell.execute_reply": "2023-02-01T04:41:26.171385Z",
     "shell.execute_reply.started": "2023-02-01T04:41:01.960305Z"
    },
    "jupyter": {
     "outputs_hidden": true
    },
    "tags": []
   },
   "outputs": [],
   "source": [
    "# Center if necessary\n",
    "#await script.atcs.offset_xy(x=-30, y=-20) # Move to upper left amp\n",
    "#await script.latiss.take_object(exptime=5.0, n=1, filter='SDSSr_65mm',grating='empty_1')"
   ]
  },
  {
   "cell_type": "markdown",
   "metadata": {
    "tags": []
   },
   "source": [
    "# Now take an image.\n",
    "## Verify that the star is centered in the field and that the image is saturated.\n",
    "## If it is not saturated, increase the exposure time until it is."
   ]
  },
  {
   "cell_type": "code",
   "execution_count": null,
   "metadata": {
    "execution": {
     "iopub.execute_input": "2023-02-01T04:42:11.501193Z",
     "iopub.status.busy": "2023-02-01T04:42:11.500507Z",
     "iopub.status.idle": "2023-02-01T04:42:54.438620Z",
     "shell.execute_reply": "2023-02-01T04:42:54.438063Z",
     "shell.execute_reply.started": "2023-02-01T04:42:11.501173Z"
    },
    "jupyter": {
     "outputs_hidden": true
    },
    "tags": []
   },
   "outputs": [],
   "source": [
    "expTime = 30.0\n",
    "await script.latiss.take_object(exptime=expTime, n=1, filter='SDSSr_65mm',grating='empty_1')"
   ]
  },
  {
   "cell_type": "code",
   "execution_count": null,
   "metadata": {
    "execution": {
     "iopub.execute_input": "2023-02-01T04:44:26.944125Z",
     "iopub.status.busy": "2023-02-01T04:44:26.943765Z",
     "iopub.status.idle": "2023-02-01T04:45:24.852822Z",
     "shell.execute_reply": "2023-02-01T04:45:24.852296Z",
     "shell.execute_reply.started": "2023-02-01T04:44:26.944107Z"
    },
    "jupyter": {
     "outputs_hidden": true
    },
    "tags": []
   },
   "outputs": [],
   "source": [
    "# Not well saturated\n",
    "expTime = 45.0\n",
    "await script.latiss.take_object(exptime=expTime, n=1, filter='SDSSr_65mm',grating='empty_1')"
   ]
  },
  {
   "cell_type": "markdown",
   "metadata": {
    "tags": []
   },
   "source": [
    "# Now center the star in the upper right amp and take another image\n",
    "## Verify that the star is approximately centered in the upper right amp."
   ]
  },
  {
   "cell_type": "code",
   "execution_count": null,
   "metadata": {
    "execution": {
     "iopub.execute_input": "2023-02-01T04:46:11.243869Z",
     "iopub.status.busy": "2023-02-01T04:46:11.243498Z",
     "iopub.status.idle": "2023-02-01T04:47:15.467117Z",
     "shell.execute_reply": "2023-02-01T04:47:15.466576Z",
     "shell.execute_reply.started": "2023-02-01T04:46:11.243850Z"
    },
    "jupyter": {
     "outputs_hidden": true
    },
    "tags": []
   },
   "outputs": [],
   "source": [
    "await script.atcs.offset_xy(x=-175, y=-100) # Move to upper left amp\n",
    "await script.latiss.take_object(exptime=expTime, n=1, filter='SDSSr_65mm',grating='empty_1')"
   ]
  },
  {
   "cell_type": "markdown",
   "metadata": {
    "tags": []
   },
   "source": [
    "# Now run the loop to walk the star through all 16 amps\n",
    "## Verify that each of the 16 images has the star approximately centered in the 16 amps"
   ]
  },
  {
   "cell_type": "code",
   "execution_count": null,
   "metadata": {
    "execution": {
     "iopub.execute_input": "2023-02-01T04:47:59.296436Z",
     "iopub.status.busy": "2023-02-01T04:47:59.296053Z",
     "iopub.status.idle": "2023-02-01T05:04:01.938448Z",
     "shell.execute_reply": "2023-02-01T05:04:01.937838Z",
     "shell.execute_reply.started": "2023-02-01T04:47:59.296418Z"
    },
    "jupyter": {
     "outputs_hidden": true
    },
    "tags": []
   },
   "outputs": [],
   "source": [
    "for i in range(2):\n",
    "    if i == 0:\n",
    "        direction = 1.0\n",
    "    else:\n",
    "        direction = -1.0\n",
    "        await script.atcs.offset_xy(x=0, y=200) # Shift to bottom amps\n",
    "        await script.latiss.take_object(exptime=expTime, n=1, filter='SDSSr_65mm',grating='empty_1')\n",
    "    for j in range(7):\n",
    "        await script.atcs.offset_xy(x=direction*50.9, y=0) # Shift to next amp\n",
    "        await script.latiss.take_object(exptime=expTime, n=1, filter='SDSSr_65mm',grating='empty_1')"
   ]
  },
  {
   "cell_type": "markdown",
   "metadata": {},
   "source": [
    "## If the 16 images are good, then we are done."
   ]
  },
  {
   "cell_type": "code",
   "execution_count": null,
   "metadata": {
    "execution": {
     "iopub.execute_input": "2023-02-01T05:04:13.651373Z",
     "iopub.status.busy": "2023-02-01T05:04:13.650694Z",
     "iopub.status.idle": "2023-02-01T05:04:13.883352Z",
     "shell.execute_reply": "2023-02-01T05:04:13.882804Z",
     "shell.execute_reply.started": "2023-02-01T05:04:13.651348Z"
    }
   },
   "outputs": [],
   "source": [
    "await script.atcs.stop_tracking()"
   ]
  },
  {
   "cell_type": "code",
   "execution_count": null,
   "metadata": {},
   "outputs": [],
   "source": []
  }
 ],
 "metadata": {
  "kernelspec": {
   "display_name": "LSST",
   "language": "python",
   "name": "lsst"
  },
  "language_info": {
   "codemirror_mode": {
    "name": "ipython",
    "version": 3
   },
   "file_extension": ".py",
   "mimetype": "text/x-python",
   "name": "python",
   "nbconvert_exporter": "python",
   "pygments_lexer": "ipython3",
   "version": "3.10.9"
  }
 },
 "nbformat": 4,
 "nbformat_minor": 4
}
