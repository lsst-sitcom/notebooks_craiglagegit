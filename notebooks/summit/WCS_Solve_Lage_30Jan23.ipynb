{
 "cells": [
  {
   "cell_type": "markdown",
   "metadata": {},
   "source": [
    "## StarTracker WCS solutions - 30-Jan-23\n",
    "\n",
    "Craig Lage - Reworked to work iwth the new summit_utils code"
   ]
  },
  {
   "cell_type": "code",
   "execution_count": null,
   "metadata": {
    "execution": {
     "iopub.execute_input": "2023-02-09T14:19:47.785760Z",
     "iopub.status.busy": "2023-02-09T14:19:47.785395Z",
     "iopub.status.idle": "2023-02-09T14:19:50.151234Z",
     "shell.execute_reply": "2023-02-09T14:19:50.150640Z",
     "shell.execute_reply.started": "2023-02-09T14:19:47.785742Z"
    },
    "tags": []
   },
   "outputs": [],
   "source": [
    "import sys, time, os, asyncio, glob\n",
    "from datetime import datetime\n",
    "import numpy as np\n",
    "import matplotlib.pyplot as plt\n",
    "import astropy.io.fits as pf\n",
    "from astropy.time import Time, TimeDelta\n",
    "from astropy.coordinates import AltAz, ICRS, EarthLocation, Angle, FK5, SkyCoord\n",
    "import astropy.units as u\n",
    "from lsst.obs.lsst.translators.latiss import AUXTEL_LOCATION\n",
    "from lsst.obs.lsst.translators.lsst import SIMONYI_LOCATION\n",
    "\n",
    "import lsst.afw.image as afwImage\n",
    "from lsst.summit.utils.utils import starTrackerFileToExposure\n",
    "from lsst.summit.utils.astrometry.anet import CommandLineSolver\n",
    "from lsst.summit.utils.astrometry.utils import runCharactierizeImage"
   ]
  },
  {
   "cell_type": "code",
   "execution_count": null,
   "metadata": {
    "execution": {
     "iopub.execute_input": "2023-02-09T14:19:50.158387Z",
     "iopub.status.busy": "2023-02-09T14:19:50.158239Z",
     "iopub.status.idle": "2023-02-09T14:19:50.161702Z",
     "shell.execute_reply": "2023-02-09T14:19:50.161243Z",
     "shell.execute_reply.started": "2023-02-09T14:19:50.158373Z"
    },
    "tags": []
   },
   "outputs": [],
   "source": [
    "solver = CommandLineSolver('/project/shared/ref_cats/astrometry_net/')"
   ]
  },
  {
   "cell_type": "code",
   "execution_count": null,
   "metadata": {
    "execution": {
     "iopub.execute_input": "2023-02-09T14:19:57.907811Z",
     "iopub.status.busy": "2023-02-09T14:19:57.907438Z",
     "iopub.status.idle": "2023-02-09T14:21:21.108290Z",
     "shell.execute_reply": "2023-02-09T14:21:21.107653Z",
     "shell.execute_reply.started": "2023-02-09T14:19:57.907793Z"
    },
    "tags": []
   },
   "outputs": [],
   "source": [
    "cameras = [['Wide', 101], ['Narrow', 102]]\n",
    "dates = [20230209]\n",
    "for [camera, num] in cameras:\n",
    "    for date in dates:\n",
    "        year = int(date/10000)\n",
    "        month = int((date - 10000 * year)/100)\n",
    "        day = int((date - 10000 * year - 100 * month))\n",
    "        path = f\"/project/GenericCamera/{num}/{year}/{month:02}/{day:02}/\"\n",
    "        outfile = open(f\"/scratch/cslage/starTracker/StarTracker_Summary_Test_{camera}_{date}.txt\", \"w\")\n",
    "        outfile.write(\"SeqNum\\tRA(header)\\tDec(header)\\tRA(Solve)\\tDec(Solve)\\tAz(header)\\tEl(header)\\tAz(solve)\\tEl(solve)\\tDeltaAz\\tDeltaEl\\tRot\\tRMS(asec)\\n\")\n",
    "        for seqNum in range(212):\n",
    "            try:    \n",
    "                filename = path + f\"GC{num}_O_{date}_{seqNum:06}.fits\"\n",
    "                exp = starTrackerFileToExposure(filename)\n",
    "                results = runCharactierizeImage(exp, 5, 25)\n",
    "                if camera == 'Narrow':\n",
    "                    # Need to loosen percentageScaleError because header SECPIX is wrong\n",
    "                    solverResults = solver.run(exp, results.sourceCat, percentageScaleError=60.0, isWideField=False)\n",
    "                if camera == 'Wide':\n",
    "                    solverResults = solver.run(exp, results.sourceCat, isWideField=True)\n",
    "                newWcs = solverResults.wcs\n",
    "                rms_error = solverResults.rmsErrorArsec\n",
    "                raSolve = newWcs.getSkyOrigin().getRa().asDegrees()\n",
    "                decSolve = newWcs.getSkyOrigin().getDec().asDegrees()\n",
    "\n",
    "            except:\n",
    "                print(f\"{camera}, {date}_{seqNum} Failed!\")\n",
    "                continue\n",
    "            hdulist = pf.open(filename)\n",
    "            header = hdulist[0].header\n",
    "            raStart = header[\"RASTART\"]\n",
    "            decStart = header[\"DECSTART\"]\n",
    "            azHdr = (header[\"AZSTART\"] + header[\"AZEND\"]) / 2.0\n",
    "            if azHdr > 360.0:\n",
    "                azHdr -= 360.0\n",
    "            if azHdr < 0.0:\n",
    "                azHdr += 360.0\n",
    "\n",
    "            elHdr = (header[\"ELSTART\"] + header[\"ELEND\"]) / 2.0\n",
    "            rotpa = header[\"ROTPA\"]\n",
    "            rot = newWcs.getRelativeRotationToWcs(exp.getWcs()).asDegrees()\n",
    "            time = Time(header[\"DATE-OBS\"], scale='tai')\n",
    "            altAz = AltAz(obstime=time, location=SIMONYI_LOCATION)\n",
    "            skyLocation = SkyCoord(raSolve * u.deg, decSolve * u.deg)\n",
    "            obsAltAz = skyLocation.transform_to(altAz)\n",
    "            az = obsAltAz.az.deg\n",
    "            el = obsAltAz.alt.deg\n",
    "            deltaAz = azHdr - az\n",
    "            if deltaAz > 360.0:\n",
    "                deltaAz -= 360.0\n",
    "            if deltaAz < 0.0:\n",
    "                deltaAz += 360.0\n",
    "            deltaEl = elHdr - el\n",
    "            print(f\"{camera}, {date}_{seqNum}, {deltaAz:.5f}, {deltaEl:.5f}\")\n",
    "            outfile.write(f\"{seqNum}\\t{raStart:.5f}\\t{decStart:.5f}\\t{raSolve:.5f}\\t{decSolve:.5f}\\t{azHdr:.5f}\\t{elHdr:.5f}\\t{az:.5f}\\t{el:.5f}\\t{deltaAz:.5f}\\t{deltaEl:.5f}\\t{rot:.5f}\\t{rms_error:.5f}\\n\")\n",
    "        outfile.close()\n",
    "    "
   ]
  },
  {
   "cell_type": "code",
   "execution_count": null,
   "metadata": {},
   "outputs": [],
   "source": []
  }
 ],
 "metadata": {
  "kernelspec": {
   "display_name": "LSST",
   "language": "python",
   "name": "lsst"
  },
  "language_info": {
   "codemirror_mode": {
    "name": "ipython",
    "version": 3
   },
   "file_extension": ".py",
   "mimetype": "text/x-python",
   "name": "python",
   "nbconvert_exporter": "python",
   "pygments_lexer": "ipython3",
   "version": "3.10.9"
  }
 },
 "nbformat": 4,
 "nbformat_minor": 4
}
