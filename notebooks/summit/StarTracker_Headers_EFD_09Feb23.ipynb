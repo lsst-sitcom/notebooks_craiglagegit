{
 "cells": [
  {
   "cell_type": "markdown",
   "metadata": {},
   "source": [
    "## StarTracker Position comparisons - 09-Feb-23\n",
    "\n",
    "Craig Lage - comparing header values with EFD"
   ]
  },
  {
   "cell_type": "code",
   "execution_count": null,
   "metadata": {
    "execution": {
     "iopub.execute_input": "2023-02-15T16:42:02.377186Z",
     "iopub.status.busy": "2023-02-15T16:42:02.376961Z",
     "iopub.status.idle": "2023-02-15T16:42:04.773406Z",
     "shell.execute_reply": "2023-02-15T16:42:04.772777Z",
     "shell.execute_reply.started": "2023-02-15T16:42:02.377169Z"
    },
    "tags": []
   },
   "outputs": [],
   "source": [
    "import sys, time, os, asyncio, glob\n",
    "from datetime import datetime\n",
    "import numpy as np\n",
    "import matplotlib.pyplot as plt\n",
    "import astropy.io.fits as pf\n",
    "from astropy.time import Time, TimeDelta\n",
    "from astropy.coordinates import AltAz, ICRS, EarthLocation, Angle, FK5, SkyCoord\n",
    "import astropy.units as u\n",
    "from lsst.obs.lsst.translators.latiss import AUXTEL_LOCATION\n",
    "from lsst.obs.lsst.translators.lsst import SIMONYI_LOCATION\n",
    "\n",
    "import lsst.afw.image as afwImage\n",
    "from lsst.summit.utils.utils import starTrackerFileToExposure\n",
    "from lsst.summit.utils.astrometry.anet import CommandLineSolver\n",
    "from lsst.summit.utils.astrometry.utils import runCharactierizeImage\n",
    "from lsst_efd_client import EfdClient"
   ]
  },
  {
   "cell_type": "code",
   "execution_count": null,
   "metadata": {
    "execution": {
     "iopub.execute_input": "2023-02-15T16:42:04.775037Z",
     "iopub.status.busy": "2023-02-15T16:42:04.774428Z",
     "iopub.status.idle": "2023-02-15T16:42:04.778123Z",
     "shell.execute_reply": "2023-02-15T16:42:04.777707Z",
     "shell.execute_reply.started": "2023-02-15T16:42:04.775020Z"
    },
    "tags": []
   },
   "outputs": [],
   "source": [
    "solver = CommandLineSolver('/project/shared/ref_cats/astrometry_net/')"
   ]
  },
  {
   "cell_type": "code",
   "execution_count": null,
   "metadata": {
    "execution": {
     "iopub.execute_input": "2023-02-15T16:42:04.778717Z",
     "iopub.status.busy": "2023-02-15T16:42:04.778580Z",
     "iopub.status.idle": "2023-02-15T16:42:06.271376Z",
     "shell.execute_reply": "2023-02-15T16:42:06.270861Z",
     "shell.execute_reply.started": "2023-02-15T16:42:04.778704Z"
    },
    "tags": []
   },
   "outputs": [],
   "source": [
    "client = EfdClient('summit_efd')"
   ]
  },
  {
   "cell_type": "code",
   "execution_count": null,
   "metadata": {
    "execution": {
     "iopub.execute_input": "2023-02-15T16:42:06.272730Z",
     "iopub.status.busy": "2023-02-15T16:42:06.272524Z",
     "iopub.status.idle": "2023-02-15T16:42:06.275365Z",
     "shell.execute_reply": "2023-02-15T16:42:06.275012Z",
     "shell.execute_reply.started": "2023-02-15T16:42:06.272714Z"
    },
    "tags": []
   },
   "outputs": [],
   "source": [
    "def wrapAz(az):\n",
    "    if az > 360.0:\n",
    "        az -= 360.0\n",
    "    if az < 0.0:\n",
    "        az += 360.0\n",
    "    return az\n",
    "    "
   ]
  },
  {
   "cell_type": "code",
   "execution_count": null,
   "metadata": {
    "execution": {
     "iopub.execute_input": "2023-02-10T13:04:53.884747Z",
     "iopub.status.busy": "2023-02-10T13:04:53.884462Z",
     "iopub.status.idle": "2023-02-10T13:05:23.912255Z",
     "shell.execute_reply": "2023-02-10T13:05:23.911614Z",
     "shell.execute_reply.started": "2023-02-10T13:04:53.884729Z"
    },
    "jupyter": {
     "outputs_hidden": true
    },
    "tags": []
   },
   "outputs": [],
   "source": [
    "cameras = [['Wide', 101], ['Narrow', 102]]\n",
    "dates = [20230209]\n",
    "for [camera, num] in cameras:\n",
    "    for date in dates:\n",
    "        year = int(date/10000)\n",
    "        month = int((date - 10000 * year)/100)\n",
    "        day = int((date - 10000 * year - 100 * month))\n",
    "        path = f\"/project/GenericCamera/{num}/{year}/{month:02}/{day:02}/\"\n",
    "        outfile = open(f\"/scratch/cslage/starTracker/StarTracker_Headers_Mount_{camera}_{date}.txt\", \"w\")\n",
    "        outfile.write(\"SeqNum\\tRA(header)\\tDec(header)\\tRA(MTPtg)\\tDec(MTPtg)\\tAz(header)\\tEl(header)\\tAz(MTMount)\\tEl(MTMount)\\tAz(MTMount)\\tEl(MTMount)\\n\")\n",
    "        for seqNum in range(23,375):\n",
    "            try:    \n",
    "                filename = path + f\"GC{num}_O_{date}_{seqNum:06}.fits\"\n",
    "                exp = starTrackerFileToExposure(filename)\n",
    "                hdulist = pf.open(filename)\n",
    "                header = hdulist[0].header\n",
    "                raStart = header[\"RASTART\"]\n",
    "                decStart = header[\"DECSTART\"]\n",
    "                azStart = header[\"AZSTART\"]\n",
    "                azStart = wrapAz(azStart)\n",
    "                elStart = header[\"ELSTART\"]\n",
    "                start_time = Time(header[\"DATE-OBS\"], scale='tai')\n",
    "\n",
    "            except:\n",
    "                print(f\"{camera}, {date}_{seqNum} Failed!\")\n",
    "                continue\n",
    "            end_time = start_time + TimeDelta(1.0, format='sec')\n",
    "            azMTM = await client.select_time_series('lsst.sal.MTMount.azimuth', \\\n",
    "                                            ['actualPosition'],  start_time.utc, end_time.utc)\n",
    "            elMTM = await client.select_time_series('lsst.sal.MTMount.elevation', \\\n",
    "                                            ['actualPosition'],  start_time.utc, end_time.utc) \n",
    "            azMTMount = azMTM.values[:,0][0]\n",
    "            azMTMount = wrapAz(azMTMount)\n",
    "            elMTMount = elMTM.values[:,0][0]\n",
    "            azPtg = await client.select_time_series('lsst.sal.MTPtg.mountPosition', \\\n",
    "                                            ['*'],  start_time.utc, end_time.utc)\n",
    "            azMTPtg = azPtg['azimuthActualPosition'].values[0]\n",
    "            azMTPtg = wrapAz(azMTPtg)\n",
    "            elMTPtg = azPtg['elevationActualPosition'].values[0]\n",
    "            raMTPtg = azPtg['ra'].values[0]\n",
    "            decMTPtg = azPtg['declination'].values[0]\n",
    "            outfile.write(f\"{seqNum}\\t{raStart:.5f}\\t{decStart:.5f}\\t{raMTPtg:.5f}\\t{decMTPtg:.5f}\\t{azStart:.5f}\\t{elStart:.5f}\\t{azMTMount:.5f}\\t{elMTMount:.5f}\\t{azMTPtg:.5f}\\t{elMTPtg:.5f}\\n\")\n",
    "        \n",
    "            #print(f\"{camera}, {date}_{seqNum}\")\n",
    "            #print(f\"AzHdr = {azStart:.5f}, AzMTMount = {azMTMount:.5f}, AzMTPtg = {azMTPtg:.5f}\")\n",
    "            #print(f\"ElHdr = {elStart:.5f}, ElMTMount = {elMTMount:.5f}, ElMTPtg = {elMTPtg:.5f}\")\n",
    "            #print(f\"RAHdr = {raStart:.5f}, RAMTPtg = {raMTPtg:.5f}\")\n",
    "            #print(f\"DecHdr = {decStart:.5f}, DecMTPtg = {decMTPtg:.5f}\")\n",
    "        outfile.close()\n",
    "    "
   ]
  },
  {
   "cell_type": "code",
   "execution_count": null,
   "metadata": {},
   "outputs": [],
   "source": []
  }
 ],
 "metadata": {
  "kernelspec": {
   "display_name": "LSST",
   "language": "python",
   "name": "lsst"
  },
  "language_info": {
   "codemirror_mode": {
    "name": "ipython",
    "version": 3
   },
   "file_extension": ".py",
   "mimetype": "text/x-python",
   "name": "python",
   "nbconvert_exporter": "python",
   "pygments_lexer": "ipython3",
   "version": "3.10.9"
  }
 },
 "nbformat": 4,
 "nbformat_minor": 4
}
